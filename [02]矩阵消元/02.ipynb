{
 "cells": [
  {
   "cell_type": "markdown",
   "id": "26e2efcd",
   "metadata": {},
   "source": [
    "# Elimination with Matrices\n",
    "视频链接：https://www.youtube.com/watch?v=QVKj3LADCnA"
   ]
  }
 ],
 "metadata": {
  "language_info": {
   "name": "python"
  }
 },
 "nbformat": 4,
 "nbformat_minor": 5
}
