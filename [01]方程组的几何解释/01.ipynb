{
 "cells": [
  {
   "cell_type": "markdown",
   "id": "8e6092be",
   "metadata": {},
   "source": [
    "视频课程链接：https://youtu.be/J7DzL2_Na80?si=rl0kZSVVkXZm7rg8"
   ]
  }
 ],
 "metadata": {
  "language_info": {
   "name": "python"
  }
 },
 "nbformat": 4,
 "nbformat_minor": 5
}
